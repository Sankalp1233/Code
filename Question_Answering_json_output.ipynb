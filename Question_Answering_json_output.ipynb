{
  "nbformat": 4,
  "nbformat_minor": 0,
  "metadata": {
    "colab": {
      "name": "Question Answering json output.ipynb",
      "provenance": [],
      "authorship_tag": "ABX9TyPUtjt0dwxNYtQsGAz5cNR1",
      "include_colab_link": true
    },
    "kernelspec": {
      "name": "python3",
      "display_name": "Python 3"
    },
    "language_info": {
      "name": "python"
    }
  },
  "cells": [
    {
      "cell_type": "markdown",
      "metadata": {
        "id": "view-in-github",
        "colab_type": "text"
      },
      "source": [
        "<a href=\"https://colab.research.google.com/github/Sankalp1233/Code/blob/main/Question_Answering_json_output.ipynb\" target=\"_parent\"><img src=\"https://colab.research.google.com/assets/colab-badge.svg\" alt=\"Open In Colab\"/></a>"
      ]
    },
    {
      "cell_type": "code",
      "metadata": {
        "colab": {
          "base_uri": "https://localhost:8080/",
          "height": 232
        },
        "id": "K6LjRk3WeE3E",
        "outputId": "136013a7-c8a7-4fba-b50b-d3888296c561"
      },
      "source": [
        "import json\n",
        "\n",
        "import requests\n",
        "\n",
        "headers = {\"Authorization\": f\"Bearer {c422f9c}\"}\n",
        "API_URL = \"https://api-inference.huggingface.co/models/google/tapas-base-finetuned-wtq\"\n",
        "\n",
        "def query(payload):\n",
        "    data = json.dumps(payload)\n",
        "    response = requests.request(\"POST\", API_URL, headers=headers, data=data)\n",
        "    return json.loads(response.content.decode(\"utf-8\"))\n",
        "\n",
        "data = query(\n",
        "    {\n",
        "        \"inputs\": {\n",
        "            \"query\": \"How many stars does the transformers repository have?\",\n",
        "            \"table\": {\n",
        "                \"Repository\": [\"Transformers\", \"Datasets\", \"Tokenizers\"],\n",
        "                \"Stars\": [\"36542\", \"4512\", \"3934\"],\n",
        "                \"Contributors\": [\"651\", \"77\", \"34\"],\n",
        "                \"Programming language\": [\n",
        "                    \"Python\",\n",
        "                    \"Python\",\n",
        "                    \"Rust, Python and NodeJS\",\n",
        "                ],\n",
        "            },\n",
        "        }\n",
        "    }\n",
        ")\n"
      ],
      "execution_count": null,
      "outputs": [
        {
          "output_type": "error",
          "ename": "NameError",
          "evalue": "ignored",
          "traceback": [
            "\u001b[0;31m---------------------------------------------------------------------------\u001b[0m",
            "\u001b[0;31mNameError\u001b[0m                                 Traceback (most recent call last)",
            "\u001b[0;32m<ipython-input-1-06cebeb30c91>\u001b[0m in \u001b[0;36m<module>\u001b[0;34m()\u001b[0m\n\u001b[1;32m      3\u001b[0m \u001b[0;32mimport\u001b[0m \u001b[0mrequests\u001b[0m\u001b[0;34m\u001b[0m\u001b[0;34m\u001b[0m\u001b[0m\n\u001b[1;32m      4\u001b[0m \u001b[0;34m\u001b[0m\u001b[0m\n\u001b[0;32m----> 5\u001b[0;31m \u001b[0mheaders\u001b[0m \u001b[0;34m=\u001b[0m \u001b[0;34m{\u001b[0m\u001b[0;34m\"Authorization\"\u001b[0m\u001b[0;34m:\u001b[0m \u001b[0;34mf\"Bearer {API_TOKEN}\"\u001b[0m\u001b[0;34m}\u001b[0m\u001b[0;34m\u001b[0m\u001b[0;34m\u001b[0m\u001b[0m\n\u001b[0m\u001b[1;32m      6\u001b[0m \u001b[0mAPI_URL\u001b[0m \u001b[0;34m=\u001b[0m \u001b[0;34m\"https://api-inference.huggingface.co/models/google/tapas-base-finetuned-wtq\"\u001b[0m\u001b[0;34m\u001b[0m\u001b[0;34m\u001b[0m\u001b[0m\n\u001b[1;32m      7\u001b[0m \u001b[0;34m\u001b[0m\u001b[0m\n",
            "\u001b[0;31mNameError\u001b[0m: name 'API_TOKEN' is not defined"
          ]
        }
      ]
    },
    {
      "cell_type": "code",
      "metadata": {
        "colab": {
          "base_uri": "https://localhost:8080/"
        },
        "id": "W4y-fEdxgM9O",
        "outputId": "acb4fdd9-e3d0-4d61-c501-e7c2e46fd61d"
      },
      "source": [
        "!pip3 install json\n",
        "!pip3 install requests"
      ],
      "execution_count": null,
      "outputs": [
        {
          "output_type": "stream",
          "text": [
            "\u001b[31mERROR: Could not find a version that satisfies the requirement json (from versions: none)\u001b[0m\n",
            "\u001b[31mERROR: No matching distribution found for json\u001b[0m\n",
            "Requirement already satisfied: requests in /usr/local/lib/python3.7/dist-packages (2.23.0)\n",
            "Requirement already satisfied: urllib3!=1.25.0,!=1.25.1,<1.26,>=1.21.1 in /usr/local/lib/python3.7/dist-packages (from requests) (1.24.3)\n",
            "Requirement already satisfied: idna<3,>=2.5 in /usr/local/lib/python3.7/dist-packages (from requests) (2.10)\n",
            "Requirement already satisfied: chardet<4,>=3.0.2 in /usr/local/lib/python3.7/dist-packages (from requests) (3.0.4)\n",
            "Requirement already satisfied: certifi>=2017.4.17 in /usr/local/lib/python3.7/dist-packages (from requests) (2020.12.5)\n"
          ],
          "name": "stdout"
        }
      ]
    },
    {
      "cell_type": "code",
      "metadata": {
        "colab": {
          "base_uri": "https://localhost:8080/"
        },
        "id": "gzIdmr82gJte",
        "outputId": "b0ab07bc-a96f-434f-a2a6-1cdf23b570b3"
      },
      "source": [
        "# !pip3 install json\n",
        "import json\n",
        "import requests\n",
        "import nlpcloud\n",
        "# API_TOKEN = \"bfc991207411a8359bd53e5fe5c673f2351f8eec\"\n",
        "# client = nlpcloud.Client(\"roberta-base-squad2\", API_TOKEN)\n",
        "# headers = {\"Authorization\": f\"Bearer {API_TOKEN}\"}\n",
        "# API_URL = \"https://api-inference.huggingface.co/models/deepset/roberta-base-squad2\"\n",
        "# new_client = client.question(new_file, \"What is the purpose of Spark?\")\n",
        "def chatbot():\n",
        "    API_TOKEN = \"bfc991207411a8359bd53e5fe5c673f2351f8eec\"\n",
        "    client = nlpcloud.Client(\"roberta-base-squad2\", API_TOKEN)\n",
        "    question = input(\"Ask a question: \")\n",
        "    new_client = client.question(new_file, question)\n",
        "    headers = {\"Authorization\": f\"Bearer {API_TOKEN}\"}\n",
        "    API_URL = \"https://api.nlpcloud.io/v1/roberta-base-squad2/question\"\n",
        "    response = requests.request(\"POST\", API_URL, headers=headers, data=new_client)\n",
        "    return json.loads(response.content.decode(\"utf-8\"))\n",
        "chatbot()"
      ],
      "execution_count": null,
      "outputs": [
        {
          "output_type": "stream",
          "text": [
            "Ask a question: What is Spark?\n"
          ],
          "name": "stdout"
        },
        {
          "output_type": "execute_result",
          "data": {
            "text/plain": [
              "{'detail': 'Authentication credentials were not provided.'}"
            ]
          },
          "metadata": {
            "tags": []
          },
          "execution_count": 46
        }
      ]
    },
    {
      "cell_type": "code",
      "metadata": {
        "colab": {
          "base_uri": "https://localhost:8080/"
        },
        "id": "rrQ08xS-_FyM",
        "outputId": "7bfb8ebd-76c3-44d8-9b33-c18f78ed3c06"
      },
      "source": [
        "import requests\n",
        "import nlpcloud\n",
        "import json\n",
        "# while question!\n",
        "def query(question):\n",
        "    API_TOKEN = '04beaa7e8a47dff5872a04c2db99d7045d50609b'\n",
        "    client = nlpcloud.Client(\"roberta-base-squad2\", API_TOKEN)\n",
        "    new_client = client.question(new_file, question)\n",
        "    API_URL = \"https://api.nlpcloud.io/v1/roberta-base-squad2/question\"\n",
        "    response = requests.request(\"POST\", API_URL, headers=headers, data=new_client)\n",
        "    return json.loads(response.content.decode(\"utf-8\"))\n",
        "question = input(\"Please ask a question: \")\n",
        "print(query(question))\n",
        "# new_client = client.question(new_file, \"What is the purpose of Spark?\")\n",
        "# print(new_client)\n",
        "# print(json.dumps(data))\n",
        "# print(data)"
      ],
      "execution_count": null,
      "outputs": [
        {
          "output_type": "stream",
          "text": [
            "Please ask a question: What is Spark?\n",
            "{'detail': 'There was an error parsing the body'}\n"
          ],
          "name": "stdout"
        }
      ]
    },
    {
      "cell_type": "code",
      "metadata": {
        "colab": {
          "base_uri": "https://localhost:8080/"
        },
        "id": "j8rSUMp7GpWN",
        "outputId": "c5d69773-5e5f-433a-edee-a9b23a8fd4e5"
      },
      "source": [
        "#def query(payload):\n",
        "    #data = json.dumps(payload)\n",
        "    #return data\n",
        "#data = query(\n",
        "    #{\n",
        "       # \"inputs\": {\n",
        "         #   \"question\": \"What's my name?\",\n",
        "        #    \"context\": \"My name is Clara and I live in Berkeley.\",\n",
        "        #}\n",
        "   # }\n",
        "#)\n",
        "# print(data)\n",
        "import nlpcloud\n",
        "API_TOKEN = '04beaa7e8a47dff5872a04c2db99d7045d50609b'\n",
        "client = nlpcloud.Client(\"roberta-base-squad2\", API_TOKEN)\n",
        "print(client)\n",
        "new_client = client.question(new_file, \"What is Spark?\")\n",
        "print(new_client)"
      ],
      "execution_count": null,
      "outputs": [
        {
          "output_type": "stream",
          "text": [
            "<nlpcloud.Client object at 0x7feeed7dce10>\n",
            "{'answer': 'a research study', 'score': 0.4762718379497528, 'start': 10942, 'end': 10958}\n"
          ],
          "name": "stdout"
        }
      ]
    },
    {
      "cell_type": "code",
      "metadata": {
        "colab": {
          "base_uri": "https://localhost:8080/"
        },
        "id": "zGsdNelh-3kW",
        "outputId": "b494f062-9149-41ab-d95b-94cb92c3e89b"
      },
      "source": [
        "import json\n",
        "\n",
        "import requests\n",
        "API_TOKEN = \"c422f9c0479589318a7c68b5ac6e6f3247a804bc\"\n",
        "headers = {\"Authorization\": f\"Bearer {API_TOKEN}\"}\n",
        "API_URL = \"https://api-inference.huggingface.co/models/deepset/roberta-base-squad2\"\n",
        "\n",
        "def query(payload):\n",
        "    data = json.dumps(payload)\n",
        "    response = requests.request(\"POST\", API_URL, headers=headers, data=data)\n",
        "    return json.loads(response.content.decode(\"utf-8\"))\n",
        "\n",
        "data = query(\n",
        "    {\n",
        "        \"inputs\": {\n",
        "            \"question\": \"What's my name?\",\n",
        "            \"context\": \"My name is Clara and I live in Berkeley.\",\n",
        "        }\n",
        "    }\n",
        ")\n",
        "print(data)"
      ],
      "execution_count": null,
      "outputs": [
        {
          "output_type": "stream",
          "text": [
            "{'error': 'Bearer token is invalid'}\n"
          ],
          "name": "stdout"
        }
      ]
    },
    {
      "cell_type": "code",
      "metadata": {
        "colab": {
          "base_uri": "https://localhost:8080/"
        },
        "id": "VDISiLtSJDHv",
        "outputId": "bc609a3c-4d3b-4bb7-fa96-525c2b2b87cc"
      },
      "source": [
        "import json\n",
        "\n",
        "import requests\n",
        "\n",
        "API_TOKEN = '04beaa7e8a47dff5872a04c2db99d7045d50609b'\n",
        "headers = {\"Authorization\": f\"Bearer {API_TOKEN}\"}\n",
        "API_URL = \"https://api-inference.huggingface.co/models/deepset/roberta-base-squad2\"\n",
        "\n",
        "def query(payload):\n",
        "    data = json.dumps(payload)\n",
        "    response = requests.request(\"POST\", API_URL, headers=headers, data=data)\n",
        "    return json.loads(response.content.decode(\"utf-8\"))\n",
        "\n",
        "data = query(\n",
        "    {\n",
        "        \"inputs\": {\n",
        "            \"question\": \"What's my name?\",\n",
        "            \"context\": \"My name is Clara and I live in Berkeley.\",\n",
        "        }\n",
        "    }\n",
        ")\n",
        "print(data)"
      ],
      "execution_count": null,
      "outputs": [
        {
          "output_type": "stream",
          "text": [
            "{'error': 'Bearer token is invalid'}\n"
          ],
          "name": "stdout"
        }
      ]
    },
    {
      "cell_type": "code",
      "metadata": {
        "colab": {
          "base_uri": "https://localhost:8080/"
        },
        "id": "9_ZBEAuT5BHS",
        "outputId": "af4f8fc8-7b8c-4f40-f033-f89057224ef1"
      },
      "source": [
        "!pip3 install json\n",
        "print(json.dumps(data))"
      ],
      "execution_count": null,
      "outputs": [
        {
          "output_type": "stream",
          "text": [
            "\u001b[31mERROR: Could not find a version that satisfies the requirement json (from versions: none)\u001b[0m\n",
            "\u001b[31mERROR: No matching distribution found for json\u001b[0m\n",
            "{\"detail\": [{\"loc\": [\"body\", \"user_request_in\", \"question\"], \"msg\": \"field required\", \"type\": \"value_error.missing\"}, {\"loc\": [\"body\", \"user_request_in\", \"context\"], \"msg\": \"field required\", \"type\": \"value_error.missing\"}]}\n"
          ],
          "name": "stdout"
        }
      ]
    },
    {
      "cell_type": "code",
      "metadata": {
        "colab": {
          "resources": {
            "http://localhost:8080/nbextensions/google.colab/files.js": {
              "data": "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",
              "ok": true,
              "headers": [
                [
                  "content-type",
                  "application/javascript"
                ]
              ],
              "status": 200,
              "status_text": ""
            }
          },
          "base_uri": "https://localhost:8080/",
          "height": 73
        },
        "id": "i7pUSveLnin9",
        "outputId": "3a058678-20b7-4074-cc4e-324268b833ea"
      },
      "source": [
        "from google.colab import files\n",
        "uploaded = files.upload() \n",
        "filename = \"context.txt\"\n",
        "new_file = uploaded[filename].decode(\"utf-8\")"
      ],
      "execution_count": null,
      "outputs": [
        {
          "output_type": "display_data",
          "data": {
            "text/html": [
              "\n",
              "     <input type=\"file\" id=\"files-974c78f2-2e7f-448d-b627-0d2e7d8f5a74\" name=\"files[]\" multiple disabled\n",
              "        style=\"border:none\" />\n",
              "     <output id=\"result-974c78f2-2e7f-448d-b627-0d2e7d8f5a74\">\n",
              "      Upload widget is only available when the cell has been executed in the\n",
              "      current browser session. Please rerun this cell to enable.\n",
              "      </output>\n",
              "      <script src=\"/nbextensions/google.colab/files.js\"></script> "
            ],
            "text/plain": [
              "<IPython.core.display.HTML object>"
            ]
          },
          "metadata": {
            "tags": []
          }
        },
        {
          "output_type": "stream",
          "text": [
            "Saving context.txt to context.txt\n"
          ],
          "name": "stdout"
        }
      ]
    },
    {
      "cell_type": "code",
      "metadata": {
        "colab": {
          "base_uri": "https://localhost:8080/"
        },
        "id": "GvUDQYIiEf0g",
        "outputId": "a8413a32-f367-483b-ebf0-b0830c4ba494"
      },
      "source": [
        "import json\n",
        "\n",
        "import requests\n",
        "API_TOKEN = \"bfc991207411a8359bd53e5fe5c673f2351f8eec\"\n",
        "headers = {\"Authorization\": f\"Bearer {API_TOKEN}\"}\n",
        "API_URL = \"https://sonnychauhan.postman.co/workspace/506eeb94-116b-4b25-8da1-17f91742b1fb/run/create?collection=15656907-8bc48bf5-e00a-48d0-b6bf-59d93273fc6e\"\n",
        "\n",
        "def query(payload):\n",
        "    data = json.dumps(payload)\n",
        "    print(data)\n",
        "    response = requests.request(\"POST\", API_URL, headers=headers, data=data)\n",
        "    print(response)\n",
        "    return requests.get(API_URL).json()\n",
        "    # print(json.loads(response.content.decode(\"utf-8\")))\n",
        "    # return json.loads(response.content.decode(\"utf-8\"))\n",
        "\n",
        "data = query(\n",
        "    {\n",
        "        \"inputs\": {\n",
        "            \"question\": \"What's my name?\",\n",
        "            \"context\": \"My name is Clara and I live in Berkeley.\",\n",
        "        }\n",
        "    }\n",
        ")\n",
        "print(data)"
      ],
      "execution_count": null,
      "outputs": [
        {
          "output_type": "stream",
          "text": [
            "{\"inputs\": {\"question\": \"What's my name?\", \"context\": \"My name is Clara and I live in Berkeley.\"}}\n",
            "<Response [404]>\n",
            "{'error': {'name': 'authenticationError', 'message': 'You are not authenticated by the server.'}}\n"
          ],
          "name": "stdout"
        }
      ]
    },
    {
      "cell_type": "code",
      "metadata": {
        "id": "4prftBp4kOwn",
        "colab": {
          "base_uri": "https://localhost:8080/"
        },
        "outputId": "b49562df-6dfa-458e-b81c-4ae657feefa2"
      },
      "source": [
        "!pip3 install git+https://github.com/nlpcloud/nlpcloud-python\n",
        "import nlpcloud\n",
        "client = nlpcloud.Client(\"roberta-base-squad2\", \"bfc991207411a8359bd53e5fe5c673f2351f8eec\")\n",
        "new_client = client.question(new_file, \"What is the purpose of Spark?\")\n",
        "print(new_client)\n",
        "# POST https://api.nlpcloud.io/v1/roberta-base-squad2/question"
      ],
      "execution_count": null,
      "outputs": [
        {
          "output_type": "stream",
          "text": [
            "Collecting git+https://github.com/nlpcloud/nlpcloud-python\n",
            "  Cloning https://github.com/nlpcloud/nlpcloud-python to /tmp/pip-req-build-nlmlxgyd\n",
            "  Running command git clone -q https://github.com/nlpcloud/nlpcloud-python /tmp/pip-req-build-nlmlxgyd\n",
            "Requirement already satisfied (use --upgrade to upgrade): nlpcloud==1.0.9 from git+https://github.com/nlpcloud/nlpcloud-python in /usr/local/lib/python3.7/dist-packages\n",
            "Building wheels for collected packages: nlpcloud\n",
            "  Building wheel for nlpcloud (setup.py) ... \u001b[?25l\u001b[?25hdone\n",
            "  Created wheel for nlpcloud: filename=nlpcloud-1.0.9-cp37-none-any.whl size=2734 sha256=bbc6a3918a7b39f6dc3b6cfd6dfd7a5d5f5b3e722170e8b1a345050ed1b6dc4b\n",
            "  Stored in directory: /tmp/pip-ephem-wheel-cache-4h94oicg/wheels/66/ad/11/e7d77b50e8402641d7564adbab7e580226ce7941bfe1390e52\n",
            "Successfully built nlpcloud\n",
            "{'answer': 'verifies participants identify', 'score': 0.5731492042541504, 'start': 30539, 'end': 30569}\n"
          ],
          "name": "stdout"
        }
      ]
    },
    {
      "cell_type": "code",
      "metadata": {
        "colab": {
          "base_uri": "https://localhost:8080/"
        },
        "id": "_3JNJ8BVC8mj",
        "outputId": "2cb0a87c-b84c-4bc8-e093-95ec7c6e0ab5"
      },
      "source": [
        "print(new_client.get('answer'))\n",
        "print(new_client.get('score'))"
      ],
      "execution_count": null,
      "outputs": [
        {
          "output_type": "stream",
          "text": [
            "verifies participants identify\n",
            "0.5731492042541504\n"
          ],
          "name": "stdout"
        }
      ]
    }
  ]
}